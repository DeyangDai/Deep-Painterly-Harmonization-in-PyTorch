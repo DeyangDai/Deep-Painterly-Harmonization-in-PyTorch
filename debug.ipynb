{
 "cells": [
  {
   "cell_type": "code",
   "execution_count": 1,
   "metadata": {},
   "outputs": [],
   "source": [
    "import os \n",
    "import torch \n",
    "import torch.nn as nn \n",
    "import torch.optim as optim \n",
    "import torchvision.transforms as transforms \n",
    "import torchvision.models as models\n",
    "import torchvision\n",
    "import torch.nn.functional as F \n",
    "from PIL import Image \n",
    "import argparse\n",
    "import copy\n",
    "import math \n",
    "import numpy as np \n",
    "import scipy.interpolate as interpolate\n",
    "import matplotlib.pyplot as plt"
   ]
  },
  {
   "cell_type": "code",
   "execution_count": 2,
   "metadata": {},
   "outputs": [
    {
     "name": "stdout",
     "output_type": "stream",
     "text": "(1, 2, 3)\n"
    }
   ],
   "source": [
    " x = (1, 2, 3)\n",
    " print(str(x))"
   ]
  },
  {
   "cell_type": "code",
   "execution_count": 30,
   "metadata": {},
   "outputs": [],
   "source": [
    "def save_img_plt(img, path, gray=False):\n",
    "    '''\n",
    "    Input : 1 * 1 * H * W / 1 * 3 * H * W Tensor \n",
    "    '''\n",
    "    print('===>save image')\n",
    "    print(path)\n",
    "    print('img shape', img.shape)\n",
    "\n",
    "    img = img.cpu().numpy()\n",
    "    img = img * 255 \n",
    "    if not gray:\n",
    "        img = np.dstack([img[0,0,:,:], img[0,1,:,:], img[0,2,:,:]])\n",
    "    else:\n",
    "        img = img.squeeze((0,1))\n",
    "    print(img.shape)\n",
    "    plt.figure()\n",
    "    if not gray:\n",
    "        plt.imshow(img)\n",
    "    else:\n",
    "        plt.imshow(img ,cmap='Greys_r')\n",
    "    plt.colorbar()\n",
    "    plt.savefig(path)\n",
    "    plt.close()"
   ]
  },
  {
   "cell_type": "code",
   "execution_count": 31,
   "metadata": {},
   "outputs": [
    {
     "name": "stdout",
     "output_type": "stream",
     "text": [
      "torch.Size([3, 487, 500])\n",
      "3\n",
      "torch.Size([1, 3, 487, 500])\n",
      "4\n"
     ]
    },
    {
     "data": {
      "text/plain": [
       "tensor([[[[ 0.8923,  0.9184, -0.2158,  ...,  0.1565, -0.0873,  0.1588],\n",
       "          [ 0.8420,  0.2954,  1.4607,  ..., -0.2596, -1.3145,  1.4926],\n",
       "          [ 0.6561, -0.2653, -0.1079,  ...,  0.4535, -0.5517,  0.2352],\n",
       "          ...,\n",
       "          [ 1.0163,  0.5023, -0.2475,  ..., -0.4002, -0.3553, -2.3362],\n",
       "          [-1.4644,  0.0569, -0.7351,  ..., -0.7552,  0.2802, -1.0378],\n",
       "          [ 1.0058, -0.6801,  0.0415,  ..., -1.0572, -0.2617,  0.0976]]]])"
      ]
     },
     "execution_count": 31,
     "metadata": {},
     "output_type": "execute_result"
    }
   ],
   "source": [
    "x = torch.randn((3,487,500))\n",
    "print(x.shape)\n",
    "print(x.dim())\n",
    "x = x.unsqueeze(0)\n",
    "print(x.shape)\n",
    "print(x.dim())\n",
    "y"
   ]
  },
  {
   "cell_type": "code",
   "execution_count": 33,
   "metadata": {},
   "outputs": [
    {
     "name": "stderr",
     "output_type": "stream",
     "text": [
      "Clipping input data to the valid range for imshow with RGB data ([0..1] for floats or [0..255] for integers).\n"
     ]
    },
    {
     "name": "stdout",
     "output_type": "stream",
     "text": [
      "===>save image\n",
      "debug.png\n",
      "img shape torch.Size([1, 3, 487, 500])\n",
      "(487, 500, 3)\n"
     ]
    }
   ],
   "source": [
    "save_img_plt(x, 'debug.png', gray=False)"
   ]
  },
  {
   "cell_type": "code",
   "execution_count": 20,
   "metadata": {},
   "outputs": [
    {
     "name": "stdout",
     "output_type": "stream",
     "text": [
      "torch.Size([1, 1, 243, 250])\n"
     ]
    }
   ],
   "source": [
    "y = F.interpolate(x, scale_factor=(0.5, 0.5))\n",
    "print(y.shape)"
   ]
  },
  {
   "cell_type": "code",
   "execution_count": null,
   "metadata": {},
   "outputs": [],
   "source": []
  }
 ],
 "metadata": {
  "kernelspec": {
   "display_name": "Python 3",
   "language": "python",
   "name": "python3"
  },
  "language_info": {
   "codemirror_mode": {
    "name": "ipython",
    "version": 3
   },
   "file_extension": ".py",
   "mimetype": "text/x-python",
   "name": "python",
   "nbconvert_exporter": "python",
   "pygments_lexer": "ipython3",
   "version": "3.7.4"
  }
 },
 "nbformat": 4,
 "nbformat_minor": 2
}